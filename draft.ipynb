{
 "cells": [
  {
   "cell_type": "code",
   "execution_count": 1,
   "id": "85dff049",
   "metadata": {},
   "outputs": [
    {
     "name": "stdout",
     "output_type": "stream",
     "text": [
      "Train data shape: (1600, 16, 5, 17, 3)\n",
      "Train labels shape: (1600,)\n",
      "\n",
      "Sample[0] shape: (16, 5, 17, 3)\n",
      "Sample[0] min, max per channel: 0.0 0.9567818 0.0 1.0 0.0 0.99173987\n"
     ]
    }
   ],
   "source": [
    "import numpy as np\n",
    "import pickle\n",
    "import os\n",
    "\n",
    "# 1. Load toàn bộ tập train\n",
    "train_data_path  = \"./train_data.npy\"\n",
    "train_labels_path = \"./train_labels.pkl\"\n",
    "\n",
    "data = np.load(train_data_path)            # dtype: float32, shape: (N, T, P, J, C) ?\n",
    "with open(train_labels_path, \"rb\") as f:\n",
    "    labels = pickle.load(f)\n",
    "\n",
    "print(\"Train data shape:\", data.shape)\n",
    "# Ví dụ: (1600, 30, 3, 17, 3)\n",
    "\n",
    "print(\"Train labels shape:\", labels.shape)\n",
    "# Ví dụ: (1600,)\n",
    "\n",
    "# 2. Kiểm tra sample đơn lẻ (để chắc chắn thứ tự axes)\n",
    "sample = data[0]\n",
    "print(\"\\nSample[0] shape:\", sample.shape)\n",
    "# => (T, P, J, C)\n",
    "\n",
    "# 3. In thử một vài giá trị min/max để xem scale\n",
    "print(\"Sample[0] min, max per channel:\", sample[...,0].min(), sample[...,0].max(),\n",
    "      sample[...,1].min(), sample[...,1].max(),\n",
    "      sample[...,2].min(), sample[...,2].max())\n",
    "\n",
    "# 4. Nếu thấy axes sai (ví dụ shape=(T, P, C, J) hoặc (T, J, P, C)), hãy thử hoán permute\n",
    "#    và xem shape mới:\n",
    "# permuted = sample.transpose(0, 2, 3, 1)\n",
    "# print(\"After transpose(0,2,3,1):\", permuted.shape)\n"
   ]
  },
  {
   "cell_type": "code",
   "execution_count": null,
   "id": "1ff54fc0",
   "metadata": {},
   "outputs": [],
   "source": []
  }
 ],
 "metadata": {
  "kernelspec": {
   "display_name": "natmin",
   "language": "python",
   "name": "python3"
  },
  "language_info": {
   "codemirror_mode": {
    "name": "ipython",
    "version": 3
   },
   "file_extension": ".py",
   "mimetype": "text/x-python",
   "name": "python",
   "nbconvert_exporter": "python",
   "pygments_lexer": "ipython3",
   "version": "3.11.13"
  }
 },
 "nbformat": 4,
 "nbformat_minor": 5
}
