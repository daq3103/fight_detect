{
 "cells": [
  {
   "cell_type": "code",
   "execution_count": null,
   "id": "7c725e25",
   "metadata": {},
   "outputs": [],
   "source": [
    "from models.model import FightDetectionModel"
   ]
  }
 ],
 "metadata": {
  "language_info": {
   "name": "python"
  }
 },
 "nbformat": 4,
 "nbformat_minor": 5
}
